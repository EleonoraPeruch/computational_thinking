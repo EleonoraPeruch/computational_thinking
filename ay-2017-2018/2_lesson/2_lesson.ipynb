{
 "cells": [
  {
   "cell_type": "markdown",
   "metadata": {},
   "source": [
    "# More on data types\n",
    "## List \n",
    "Python slicing notation `sliceable[start:stop:step]` enables us to access parts of data, and search for items in sequences, such as lists.\n",
    "\n",
    " * **start** the beginning index of the slice, the first index is 0. If it's negative, it means to start n items from the end.\n",
    " * **stop** the ending index of the slice, it does not include the element at this index.\n",
    " * **step** the amount by which the index increases, defaults to 1. If it's negative, you're slicing over the iterable in reverse."
   ]
  },
  {
   "cell_type": "code",
   "execution_count": 5,
   "metadata": {},
   "outputs": [
    {
     "name": "stdout",
     "output_type": "stream",
     "text": [
      "[1, 2, 3, 11, 22, 55, 66]\n",
      "[11, 22, 55, 66, 77, 8]\n",
      "[1, 2, 3, 11, 22, 55, 66]\n",
      "[1, 2, 3, 11, 22, 55, 66, 77, 8]\n"
     ]
    }
   ],
   "source": [
    "t = [1, 2, 3, 11, 22, 55, 66, 77, 8]\n",
    "print(t[0:7]) # from start to end-1\n",
    "print(t[3:])  # from start, through the rest of the sequence\n",
    "print(t[:7])  # from the beginning to end-1\n",
    "print(t[:])   # the whole sequence"
   ]
  },
  {
   "cell_type": "markdown",
   "metadata": {},
   "source": [
    "## Set\n",
    "A set is an unordered collection of unique items (it does not contain duplicates) separated by comma inside curly braces"
   ]
  },
  {
   "cell_type": "code",
   "execution_count": 6,
   "metadata": {},
   "outputs": [
    {
     "data": {
      "text/plain": [
       "[1, 2, 3, 5, 6, 7, 8]"
      ]
     },
     "execution_count": 6,
     "metadata": {},
     "output_type": "execute_result"
    }
   ],
   "source": [
    "t = [1, 2, 3, 1, 2, 5, 6, 7, 8]\n",
    "list(set(t))"
   ]
  },
  {
   "cell_type": "markdown",
   "metadata": {},
   "source": [
    "Since a set is an unordered collection, position is irrelevant and the slice operator does not work.\n",
    "\n",
    "# Defining Functions\n",
    "A function is a group of statements that perform a task. Functions are useful to organize a program in small chunks.\n",
    "\n",
    "We use the keyword 'def' to introduce the name of the function. Between parentesis we have the arguments that we want to pass to the function, i.e., variables, default values, or none."
   ]
  },
  {
   "cell_type": "markdown",
   "metadata": {},
   "source": [
    "As a good practice, we add a short summary about the aim of the function. A comment on more than one line can be written among ''' ''' or \"\"\" \"\"\""
   ]
  },
  {
   "cell_type": "code",
   "execution_count": 7,
   "metadata": {},
   "outputs": [],
   "source": [
    "def greet(name):\n",
    "    \"\"\"This function greets to\n",
    "    the person passed in as parameter\"\"\"\n",
    "    print(\"Hello, \" + name + \". Good morning!\")"
   ]
  },
  {
   "cell_type": "markdown",
   "metadata": {},
   "source": [
    "Once defined a function it can be called with the required parameters\n"
   ]
  },
  {
   "cell_type": "code",
   "execution_count": 9,
   "metadata": {},
   "outputs": [
    {
     "name": "stdout",
     "output_type": "stream",
     "text": [
      "Hello, guys. Good morning!\n"
     ]
    }
   ],
   "source": [
    "greet('guys')"
   ]
  },
  {
   "cell_type": "markdown",
   "metadata": {},
   "source": [
    "When we don't want a result to be printed, but one or more variables as result, we use `return` to exit a function. It can contain statements that are evaluated and return a value.\n"
   ]
  },
  {
   "cell_type": "code",
   "execution_count": 11,
   "metadata": {},
   "outputs": [
    {
     "data": {
      "text/plain": [
       "3"
      ]
     },
     "execution_count": 11,
     "metadata": {},
     "output_type": "execute_result"
    }
   ],
   "source": [
    "def absolute_value(num):\n",
    "    \"\"\"This function returns the absolute\n",
    "    value of the entered number\"\"\"\n",
    "\n",
    "    if num >= 0:\n",
    "        return num\n",
    "    else:\n",
    "        return -num\n",
    "absolute_value(-3)"
   ]
  },
  {
   "cell_type": "markdown",
   "metadata": {},
   "source": [
    "*NB. Variables declared inside a function are not available outside.*\n",
    "\n",
    "## Built-in functions\n",
    "We have built-in functions (Python) or user defined functions. Here below a list of some built-in functions useful to accomplish your task.\n",
    "\n",
    "### append(x)\n",
    "We have already seen the `append()` method, which appends to the end of a list a new item."
   ]
  },
  {
   "cell_type": "code",
   "execution_count": 13,
   "metadata": {},
   "outputs": [
    {
     "data": {
      "text/plain": [
       "['start', 'middle', 'end']"
      ]
     },
     "execution_count": 13,
     "metadata": {},
     "output_type": "execute_result"
    }
   ],
   "source": [
    "myList = ['start', 'middle']\n",
    "myList.append('end') \n",
    "myList"
   ]
  },
  {
   "cell_type": "markdown",
   "metadata": {},
   "source": [
    "### filter(function, iterable)\n",
    "Creates a list of elements for which a function returns true. It's used to filter sequences (e.g. lists) according to the rule expressed as argument."
   ]
  },
  {
   "cell_type": "code",
   "execution_count": 23,
   "metadata": {},
   "outputs": [
    {
     "name": "stdout",
     "output_type": "stream",
     "text": [
      "one\n",
      "three\n",
      "two\n"
     ]
    }
   ],
   "source": [
    "myList = ['', 'one', 'three', '', 'two']\n",
    "results = filter(None, myList)\n",
    "for result in results:\n",
    "    print(result)"
   ]
  },
  {
   "cell_type": "markdown",
   "metadata": {},
   "source": [
    "### len(s)\n",
    "Returns the number of items (i.e., the length) of an object (e.g. string, list, dictionary)"
   ]
  },
  {
   "cell_type": "code",
   "execution_count": 26,
   "metadata": {},
   "outputs": [
    {
     "name": "stdout",
     "output_type": "stream",
     "text": [
      "5\n"
     ]
    }
   ],
   "source": [
    "print(len(myList))"
   ]
  },
  {
   "cell_type": "markdown",
   "metadata": {},
   "source": [
    "### range(start, stop[, step])\n",
    "The `range()` function can be used to generate a sequence of numbers. It's arguments are `range(start,stop,step)`. "
   ]
  },
  {
   "cell_type": "code",
   "execution_count": 27,
   "metadata": {},
   "outputs": [
    {
     "data": {
      "text/plain": [
       "[0, 1, 2, 3, 4, 5, 6, 7, 8, 9]"
      ]
     },
     "execution_count": 27,
     "metadata": {},
     "output_type": "execute_result"
    }
   ],
   "source": [
    "list(range(0,10))"
   ]
  },
  {
   "cell_type": "markdown",
   "metadata": {},
   "source": [
    "### split(sep=None, maxsplit=-1)\n",
    "`split()` returns a list of words in a string. It takes as argument the separator (the default value is None). \n",
    "It can be iterated over lists. Returns a new list for each iterated list item."
   ]
  },
  {
   "cell_type": "code",
   "execution_count": 37,
   "metadata": {},
   "outputs": [
    {
     "name": "stdout",
     "output_type": "stream",
     "text": [
      "['Belsito, Peter ', ' Davis, Bob']\n",
      "['Alexandersson, Gunvor ', ' Lundquist, Lena']\n"
     ]
    }
   ],
   "source": [
    "authors = ['Belsito, Peter ; Davis, Bob', 'Alexandersson, Gunvor ; Lundquist, Lena']\n",
    "for auth in authors:\n",
    "    splitList = auth.split(';')\n",
    "    print(splitList)"
   ]
  },
  {
   "cell_type": "markdown",
   "metadata": {},
   "source": [
    "### join(iterable)\n",
    "`join()` returns a string which is the concatenation of the strings included in an iterable object."
   ]
  },
  {
   "cell_type": "code",
   "execution_count": 44,
   "metadata": {},
   "outputs": [
    {
     "name": "stdout",
     "output_type": "stream",
     "text": [
      "Belsito, Peter and Davis, Bob\n",
      "Alexandersson, Gunvor and Lundquist, Lena\n"
     ]
    }
   ],
   "source": [
    "for auth in authors:\n",
    "    for au in splitList:\n",
    "        splitList = auth.split(';')\n",
    "        auth = 'and'.join(au for au in splitList)\n",
    "    print(auth)"
   ]
  },
  {
   "cell_type": "markdown",
   "metadata": {},
   "source": [
    "Returns the original list."
   ]
  },
  {
   "cell_type": "markdown",
   "metadata": {},
   "source": [
    "### replace(old, new[, count])\n",
    "`replace()` returns a copy of the string in which the occurrences of 'old' have been replaced with 'new', optionally restricting the number of replacements to max.\n"
   ]
  },
  {
   "cell_type": "code",
   "execution_count": 45,
   "metadata": {},
   "outputs": [
    {
     "name": "stdout",
     "output_type": "stream",
     "text": [
      "thwas was an example\n"
     ]
    }
   ],
   "source": [
    "s = 'this is an example'\n",
    "print(s.replace('is','was'))"
   ]
  },
  {
   "cell_type": "markdown",
   "metadata": {},
   "source": [
    "### zip(*iterables)\n",
    "`zip()` aggregates items from multiple iterable objects"
   ]
  },
  {
   "cell_type": "code",
   "execution_count": 46,
   "metadata": {},
   "outputs": [
    {
     "data": {
      "text/plain": [
       "[(1, 4), (2, 5), (3, 6)]"
      ]
     },
     "execution_count": 46,
     "metadata": {},
     "output_type": "execute_result"
    }
   ],
   "source": [
    "x = [1, 2, 3]\n",
    "y = [4, 5, 6]\n",
    "zipped = zip(x, y)\n",
    "list(zipped)"
   ]
  },
  {
   "cell_type": "markdown",
   "metadata": {},
   "source": [
    "### del\n",
    "`del` is a method that removes an item from a list given its index instead of its value.\n"
   ]
  },
  {
   "cell_type": "code",
   "execution_count": 48,
   "metadata": {},
   "outputs": [
    {
     "data": {
      "text/plain": [
       "['Belsito, Peter ; Davis, Bob']"
      ]
     },
     "execution_count": 48,
     "metadata": {},
     "output_type": "execute_result"
    }
   ],
   "source": [
    "authors = ['Belsito, Peter ; Davis, Bob', 'Alexandersson, Gunvor ; Lundquist, Lena']\n",
    "del authors[1]\n",
    "authors"
   ]
  },
  {
   "cell_type": "markdown",
   "metadata": {},
   "source": [
    "## List comprehension\n",
    "List comprehensions provide a concise way to create lists."
   ]
  },
  {
   "cell_type": "code",
   "execution_count": 49,
   "metadata": {},
   "outputs": [
    {
     "data": {
      "text/plain": [
       "['Gibbon, Peter [person]']"
      ]
     },
     "execution_count": 49,
     "metadata": {},
     "output_type": "execute_result"
    }
   ],
   "source": [
    "old_list = ['Gibbon, Peter [person]', 'Centret for udviklingsforskning (Denmark) [organisation]']\n",
    "new_list = []\n",
    "for i in old_list:\n",
    "    if 'organisation' not in i:\n",
    "        new_list.append(i)\n",
    "new_list"
   ]
  },
  {
   "cell_type": "markdown",
   "metadata": {},
   "source": [
    "Can be written also as:"
   ]
  },
  {
   "cell_type": "code",
   "execution_count": 50,
   "metadata": {},
   "outputs": [
    {
     "data": {
      "text/plain": [
       "['Gibbon, Peter [person]']"
      ]
     },
     "execution_count": 50,
     "metadata": {},
     "output_type": "execute_result"
    }
   ],
   "source": [
    "new_list = [i for i in old_list if 'organisation' not in i]\n",
    "new_list"
   ]
  },
  {
   "cell_type": "markdown",
   "metadata": {},
   "source": [
    "## Regular expressions (regex)\n",
    "Both patterns and strings can be searched in strings by using methods included in `re` module\n"
   ]
  },
  {
   "cell_type": "code",
   "execution_count": 51,
   "metadata": {},
   "outputs": [
    {
     "data": {
      "text/plain": [
       "'def'"
      ]
     },
     "execution_count": 51,
     "metadata": {},
     "output_type": "execute_result"
    }
   ],
   "source": [
    "import re\n",
    "m = re.search('(?<=abc)def', 'abcdef')\n",
    "m.group(0)"
   ]
  },
  {
   "cell_type": "markdown",
   "metadata": {},
   "source": [
    "Among the operations, we can substitute strings or delete them."
   ]
  },
  {
   "cell_type": "code",
   "execution_count": 55,
   "metadata": {},
   "outputs": [
    {
     "name": "stdout",
     "output_type": "stream",
     "text": [
      "Gibbon, Peter\n",
      "Centret for udviklingsforskning\n"
     ]
    }
   ],
   "source": [
    "old_list = ['Gibbon, Peter [person]', 'Centret for udviklingsforskning (Denmark) [organisation]']\n",
    "for auth in old_list:\n",
    "    auth = re.sub(\"\\s?[\\(\\[].*?[\\)\\]]\\s?\", \"\", auth) # remove brackets and content\n",
    "    print(auth)"
   ]
  },
  {
   "cell_type": "markdown",
   "metadata": {},
   "source": [
    "# Exercise\n",
    "Work on a [bibliography](https://raw.githubusercontent.com/marilenadaquino/computational_thinking/master/1_lesson/titles.csv) on punk music, released by the British Library as a .csv file . Define functions for solving the following problems:\n",
    " * Is there any duplicate in the list? Print the list of duplicate ISBN in the form `ISBN: number`\n",
    " * Can you delete duplicates from the dictionary?\n",
    " * Print references in [Chicago Style](http://www.chicagomanualofstyle.org/tools_citationguide/citation-guide-1.html): \n",
    " e.g. `LastName1, FirstName1, FirstName2 LastName2, and FirstNameN LastNameN. Title. City: Publisher, date.`"
   ]
  },
  {
   "cell_type": "markdown",
   "metadata": {},
   "source": [
    "# References for the exercise\n",
    " * [Built-in functions](https://docs.python.org/3/library/functions.html) in python\n",
    " * [Data structures](https://docs.python.org/3/tutorial/datastructures.html) methods to work with lists\n",
    " * [String operations](https://docs.python.org/3/library/string.html) in python\n",
    " * [Regular expressions](https://docs.python.org/3/library/re.html) in python\n",
    " * [urllib](https://docs.python.org/3/library/urllib.html) A python module to open URLs\n",
    " * [codecs](https://docs.python.org/3/library/codecs.html) A python module for encoding and decoding (e.g. texts to bytes and viceversa)\n",
    " * [csv](https://docs.python.org/2/library/csv.html) A python module to read and write .csv files\n",
    " * [csv file](https://raw.githubusercontent.com/marilenadaquino/computational_thinking/master/1_lesson/titles.csv) original data is available at [British National Bibliography > Data Services](http://www.bl.uk/bibliographic/download.html#csvpunk)\n",
    " * [Chicago Style Manual](http://www.chicagomanualofstyle.org/tools_citationguide/citation-guide-1.html) see *Bibliography entries (in alphabetical order)* \n"
   ]
  },
  {
   "cell_type": "code",
   "execution_count": null,
   "metadata": {},
   "outputs": [],
   "source": []
  }
 ],
 "metadata": {
  "kernelspec": {
   "display_name": "Python 3",
   "language": "python",
   "name": "python3"
  },
  "language_info": {
   "codemirror_mode": {
    "name": "ipython",
    "version": 3
   },
   "file_extension": ".py",
   "mimetype": "text/x-python",
   "name": "python",
   "nbconvert_exporter": "python",
   "pygments_lexer": "ipython3",
   "version": "3.5.0"
  }
 },
 "nbformat": 4,
 "nbformat_minor": 2
}
