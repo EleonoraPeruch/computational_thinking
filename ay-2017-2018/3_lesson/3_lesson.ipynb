{
 "cells": [
  {
   "cell_type": "markdown",
   "metadata": {},
   "source": [
    "# Text processing\n",
    "In order to analyse quantitative and qualitative aspects of texts, we first need to build a corpus. It is a structured set of texts designed according to our purposes and implemented to accomplish some tasks. In the design phase we need to consider:\n",
    " * the size of the corpus\n",
    " * the balance of sources\n",
    " * the representativeness of corpus with regard of topics/features to analyse\n",
    "\n",
    "We can look for general statistics (e.g. number of words, lexical diversity, occurrences of terms, frequency distribution) and other meaningful features (e.g. Part-Of-Speech tagging), and prediction models (e.g. which words are likely to appear together?).\n",
    "\n",
    "## NLTK\n",
    "[Natural Language Toolkit (NLTK)](http://www.nltk.org/) is a python library that simplifies several common tasks in linguistic analysis, thanks to several bespoke functions. \n",
    "\n",
    "## Creating a collection\n",
    "We collect and save all our texts in a single .txt file. The function `read()` returns the entire contents of the file as a single string. Since we rely on a file that is online, we need to decode the file from bytes to strings by means of the function `decode()`, specifying the encoding standard (`utf-8`)."
   ]
  },
  {
   "cell_type": "code",
   "execution_count": 1,
   "metadata": {},
   "outputs": [],
   "source": [
    "with open('military.txt', 'r', errors='ignore') as txtFile: # open .txt file\n",
    "    text = txtFile.read()"
   ]
  },
  {
   "cell_type": "markdown",
   "metadata": {},
   "source": [
    "## Cleaning texts\n",
    "'Neat' statistics require 'neat' data, which means we need to remove all those characters (e.g. punctuation) and words (articles, prepositions, etc.) that would make less readable or significant our results. \n",
    "### lower()\n",
    "The built-in function `lower()` returns a string in lowercase."
   ]
  },
  {
   "cell_type": "code",
   "execution_count": 2,
   "metadata": {},
   "outputs": [
    {
     "data": {
      "text/plain": [
       "'the profound impression made upon a crowded congregation in st. paul\\'s cathedral has already been mentioned. an eloquent sermon by the bishop of london (honorary chaplain to the academy) was admirably suited to the occasion and a largely-augmented choir did fullest justice to the well-chosen music, the selection and direction of which had been entrusted to dr. charles macpherson. the effect of his solemn te deum is unforgettable. our girls in white and scarletwearing specially-designed, chic black velvet caps, naval and military uniforms and academic robesmade a brave show of colour, and the unexpected burst of music by the band of the welsh guards after the \"amen,\" as the procession moved slowly down the nave, provided a dignified close to a devotional function unique of its kind. \\n \\nat a fixed hour every day i heard from my room the distant sound of a banda playing a passadoble, and military exercises always apparently ended with that sort of music. all the little characteristics of the spaniards daily life pleased me immensely, and i experienced and savoured them with great gusto. \\n \\nwe heard there, also, some russian military singers. they were six private soldiers, some of whom sang soprano parts. they shrieked fearfully, so much so that one was almost obliged to stop ones ears. they are practised in singing by a non commissioned officer, cane in hand. in some songs they accompanied themselves on sort of schalmey of so piercing a tone, that i expected the ladies would have fainted away. the melodies of the songs were not bad, but accompanied by a great deal of false harmonics.\\n \\ni am not fond of the insult of a triumph; but many of [charles] hewitts friends would not be satisfied without our parading about the town. i would not desert him, but went thro all the blackguardism of electioneering. we marched with the military band before us; stopped before old [charles] grays door, & treated him with a dead march. they intended to have given him a holla; but indignation converted it, as it came out, into groans and hisses. he has given immortal offence to his best friends by his conduct in this matter. \\n \\nthe only good music we have is that of the austrian military band, which plays three evenings in the week on the piazza of st.marc.\\n \\ni remember the onward brass band had to play the marches for the masonics or the odd fellows. they hired one band during the day--a big military band--that would play all the marches and that would introduce each dignitary of the organisation with military music. but the band was sitting. and between those introductions and the marching and the drilling, they would play some dance music, so they would swing. \\n\\nthey played the shuffle beat on the snare drum and mostly two beats on the bass drums. at first, in the bands, the snare drums and the bass drums were played by different men like in the marching bands. but there was one particular guy in new orleans who put the two drums together and played both himself, and that\\'s where the foot pedal was invented. \\n \\nbeecham conducted delius\\' \"mass of life\" which meant that we had to send for a certain captain waterhouse who played the bass oboe. he was a total mystery to me, i never knew his first name - he was always referred to simply as captain waterhouse - i never talked to him; he would appear, tallish, faintly military, not young, and vanish again. i often wondered what he did during those long, long spells when he was not playing the bass oboe, an instrument for which opportunities of employment were very rare indeed. but i never discovered.\\n \\nthe next adventure that befel me in my visit to the short-timers, was the sudden apparition of a military band.... i saw with astonishment that several musical instruments, brazen and of great size, appeared to have suddenly developed two legs each, and to be trotting about a yard. and my astonishment was heightened when i observed a large drum, that had previously been leaning helpless against a wall, taking up a stout position on four legs. approaching this drum and looking over it, i found two boys behind it (it was too much for one), and then i found that each of the brazen instruments had brought out a boy, and was going to discourse sweet sounds. the boys  not omitting the fifer, now playing a new instrument - were dressed in neat uniform, and stood up in a circle at their music-stands, like any other military band. they played a march or two, and then we had cheer boys, cheer, and then we had yankee doodle, and we finished, as in loyal duty bound, with god save the queen. the bands proficiency was perfectly wonderful, and it was not at all wonderful that the whole body corporate of short-timers listened with faces of the liveliest interest and pleasure.... [i]n a great class-room i found myself now, with the whole choral force of short- timers singing the praises of a summers day to the harmonium, and my small but highly-respected friend the fifer blazing away vocally, as if he had been saving up his wind for the last twelvemonth; also the whole crew of the good ship nameless swarming up and down the scale as if they had never swarmed up and down the rigging. this done, we threw our whole power into god bless the prince of wales, and blessed his royal highness to such an extent that, for my own uncommercial part, i gasped again when it was over.\\n \\nwhen the military band performed parade music in front of the guard-house, i was seldom absent. the bandsmen got little boys to hold their music for them, and i was always at hand to undertake the duty.\\n \\nthis paramount [cinema] in london is exactly like the one in paris: both of them boast of being the most up to date in the world. and then there is movietone  and i do not understand why they do not speak more about this, since it provides the answer to cinematography with speech. this is the only way films are produced from real life. and the military reviews with their music in motion, the rhythm of the steps, the roar of the cannon, the sound of the commands and the applause of the crowd are rendered quite perfectly. \\n \\ni paid occasional summer visits to new brighton where my friend and ex-student, now professor, granville bantock, was installed as musical director. wending our way to a rehearsal of an orchestral concert through the beautiful grounds, bantock halted on an eminence for the purpose of letting me hear his newly-formed military band which, at his signal, played a selection from a comic opera. after praising the performance i remarked, \"well, sullivan does write some jolly good tunes.\" \\n \\neverybody was terribly excited, and there was nobody more excited than my elder brother george. he was going, he said, first thing tomorrow morning. we were having a bit of leg pulling and we sang him the song:\\n\\nno more will i work in the harvest to reap the golden corn \\nbut im going to join the army and im off tomorrow morn.\\nhurrah for the scarlet and blue \\nsee the helmets glitter in the sun \\nsee the bayonets flash like lightning \\nto the beating of the old militia drum.\\n\\n     dad didnt want him to enlist, he tried to persuade him against going so soon  stop to see the harvest in. but george was keen to go and here was his chance, and he went into my mothers bedroom  she was not very well at the time - and he picked up a stick which she used to rap on the floor if she wanted anything. this is how i shall strut about the london parks, he said, jokingly of course. it was the glamour of it all, nobody sort of gave it a second thought that they might never come back.\\n     in the early part of the war, small squads of soldiers used to march through the villages  it was part of the recruiting drive, you see, and they sang a song, you ought to join kitcheners army. seven bob a week, plenty of grub to eat, great big boots make blisters on your feet, you ought to join. of course we used to run alongside these soldiers; they had a drum and a fife band, or a bugle.\\n     i think we used to poke fun at them. it wasnt military music but enough perhaps to stir some young men to want to join up.\\n\\n \\ndusk is falling as we detrain at etaples. we have been a long time making the short journey, and are glad to shake our limbs after being wedged tight in those uncomfortable wooden carriages. we drop out by the side of the rails and scuttle up a sandy slope, where we report and receive details of our quarters for the night. we wander through a sea of canvas, our valises following, and now by the light of a candle unroll them on the wooden floor of a bell-tent... a gramophone at a y.m.c.a. hut some way down the side of this sandy hill is playing tunes from the maid of the mountains. it stops. through the door-flap of the tent i can see the stars. hill snores loudly as i get into my bag. what a release to feel alone and free from military busyness!\\n \\ni had the honour of directing the music at the lying in state of king edward in westminster hall, taking the abbey choir and having a military band to supply\\nthe accompaniments. the deep solemnity, the simple majesty of the scene form an arresting picture that i can readily summon again ; and standing there, as i stood eight years ago, comes anew the refrain of the lamentation of the preacher, in mournful cadence, \"because man goeth to his long home.\" sir arthur bigge, by command of king george, sent me the following letter in appreciation of the music performed on that memorable occasion :\\n\\nmarlborough house,\\npall mall, s.w.,\\njune 2nd, 1910.\\n\\ndear sir frederick, \\nthe king commands me to express to you his entire satisfaction with the\\narrangements made by you for the musical portion of the service in westminster hall on may 17th. his majesty thought that the choir sang beautifully, and that the combination with the band in the last hymn\\nwas most striking and impressive. his majesty sincerely thanks you and all who\\nworked with you in achieving what was in every way worthy of the great and solemn occasion.\\nyours very truly,\\narthur bigge.\\n \\none evening we went to a concert, which was crowded with military men and beautiful women, where i had the pleasure of being introduced to the justly popular composer, pleyel ; he was engaged as director of the concerts ; he came to the hotel and supped with us, and seemed delighted to hear that \\nwe had left his old master haydn in good health and spirits. in the morning i went with him to the top of the spire of the cathedral, reckoned the highest \\nin europe ; a foolish fellow, a week before, disappointed and crossed in love, had thrown himself from the top of it, and been dashed to pieces. in the body of the church, lie the remains of the famous marshal saxe, to whose memory there is a fine monument ; and its clock is a curious piece of machinery. in the evening i heard the celebrated french actress and comic singer, madame dugazzon, who sang the popular ballad of \" mon bon andre, mon cher andre,\" charmingly. the house literally overflowed with elegant company.\\n \\nsuddenly the sound of solemn music in the direction of the [windsor] station reached us, and it was whispered theyre coming. still the minute gun sent forth its charges. now in the bend of the road, 200 yards on our left, a body of cavalry on black chargers  the men wore helmets with white horse hair plumes. the sun, which now struggled through the grey clouds, reflected on their breastplates. the chargers paced very slowly. this was an escort of the 2nd life guards. then came the military bands, with their instruments and gold lace dazzling in the sun. they numbered close to 200 instrumentalists, walking ten abreast. they wore on their arms the badge of mourning, and the greater drums were enveloped in crape, the ends only exposed. then came the fifes and kettle drums in ranks, every drum being draped. the combined bands were playing chopins funeral march and weird and solemn were its notes.\\n \\nwhen i finished playing, the audience, consisting mostly of refined diplomats, applauded wildly. having come out for bows, i was thinking about what to play for an encore, when roosevelt, who must not have been the greatest fan of classical music, gave a sign with his cigarette holder from his wheelchair, and the military band blasted out sousas stars and stripes forever. i was a bit taken aback, but at least i had the pleasure of hearing the band: they were terrific!\\n \\nletter from bunsen to his wife, palace of bruhl: wednesday, 13th august, 1845 -\\ni have just a moment to tell you that i am alive and well. we are enjoying magnificence here. the first really grand effect was the drive through cologne ; the chief street being decorated with flags on poles, and carpets out of the windows, filled with a waving multitude ; great care had been taken to sweep and clean it as for a procession, sprinkling it with eau de cologne, by order of the town authorities. within the palace all was lighted up, the garden and its italian colonnades and fountains and statues, all made bright and visible : the court-yard was, in comparison, but moderately illuminated, but was soon filled with beautifully ornamented lanterns ; 485 musicians placed themselves in military array, and \\' god save the queen \\' sounded forth, the roll of drums filling up the pauses. i could not have fancied this mode of performance, which is called the great zapfenttreich, that is, the military retiring salute.\\n \\n ....[glazunov] offered to get me into the opera boris godunov at the imperial maryinsky theatre. the legendary bass feodor chaliapin was singing tsar boris, and glazunov was conducting. to hear chaliapin as boris! what an incredibly generous offer, especially since it was to be a command performance. emperor nicholas ii and the diplomatic corps were going to attend. no tickets were available, but glazunov promised to get me into the orchestra pit. it turned out to be one of the most memorable events of my life. i couldn\\'t find the administration door at first, it was to the side of the main entrance. i was afraid of being late, but when i was finally led into the orchestra pit and was seated, and it was time to start, it turned out everyone was waiting for the tsar. nicholas, who was coming from his military headquarters in the city of mogilev- this was at the height of world war one-was forty-five minutes late. so the performance began an hour and a half late, at half past ten, and i had lots of time to look around. brilliant officers and beautifully dressed ladies - oh, those hats, jewels, and long gloves! - sat in the boxes. the diplomats of the tiniest country looked like kings! i thought that when our emperor came out, he would be dressed even more fabulously and would look even more impressive. but when nicholas appeared (i was sitting right opposite the royal box, on the left) i saw a small, modestly dressed man, without pomp or galloons or medals. only the st. george cross gleamed on his chest. they started playing anthems  first the russian, then those of our wartime allies. everyone stood up. the tsar stood, twirling his reddish moustache with a melancholy air. i devoured him with my eyes. then came the opera, the first time id seen boris godunov. chaliapins singing astonished me. but even more astonishing...he suddenly fell to his knees! he hadnt stumbled; no, it was a flamboyant theatrical touch: chaliapin, tsar on the stage, on his knees before the real tsar. the audience gasped and buzzed. everyone had been electrified to begin with, and chaliapins unexpected gesture added to the tension. but chaliapin continued as if nothing had happened. then it became increasingly clear that he was dissatisfied with glazunovs conducting, that the phlegmatic composer was holding back the temperamental singer. at last chaliapin couldnt stand it anymore, come stage front, bend over, and in his marvellously deep voice roared at glazunov, sasha, hurry it up!. after seeing boris with chaliapin, i had chills for ten days. they thought i had caught a bad cold and kept taking my temperature- but i had no fever. i was quivering with excitement. i had overdosed on high art. \\n\\n \\nas i sauntered about the streets of glasgow, i saw the new guard marching to relieve the old, their band playing a cheerful air. this being the first military band i had ever heard, i was quite charmed with it, and followed, unconsciously taking the step and holding up my head. a military enthusiasm instantly seized me, and i felt as if a soldier\\'s life was the only station for which nature had designed me.\\n \\nafter dinner beth & i go to b.b.c. to see & hear hindemith\\'s lesson.* v. amusing & witty, and with apparently a very deep philosopy underneath it, which i was quite oblivious of. harry tate & co. were clowns & tudor davies, arthur cranmer, b.b.c. orch. wireless singers, military band, & adrian boult (in full form!).\\n \\nin the may following the royal wedding the czar came over to visit her majesty, and during his stay in england a grand performance was given at the crystal palace in his honour, by the london contingent of the handel festival choir, and ten military bands, under the direction of mr. auguste manns. after the russian march and hymn, and two or three other pieces, vocal and instrumental, sir\\ngeorge\\'s \"festal march\" was played in grand style by the united bands, to the thorough satisfaction of the composer, who was present. \\n \\nand then work began in real earnest. at least, it would have, if within a week the armistice had not stepped in. i knew it first by the bonne bursting into my bedroom with the shrill cry 1870 is avenged! the tumult in the street outside was an echo of her words. a statue of france with a broken sword stood there down in the public square below me, in memory of 1870, and round it all day long surged cheering crowds. the statue itself was smothered in flowers, november though it was. only the figure of france could be seen standing breast high in a sea of roses. les voila, mlle,\\' went on germaine. even the english officers are dancing. they were singing and marching too in serried rows down the grande rue.\\n\\nwe saw no poilus but french marines, with that odd red hackle in their caps, walked arm in arm with belgian troops. from the pavement stolid groups of chinese, cabbage in hand, surveyed them curiously. a dark french senegalese soldier from the military hospital on the plage jogged past a portuguese  worst behaved of all the allies and sent here to be shipped home as soon as ever occasion afforded.\\n\\naux armes, citoyens, they played over and over again and i had hardly got over the marvel of the marseillaise being played for peace when, faint and halting at first, but more confidently as it went on, the strains of tipperary rose to my ears. they had not played it much since 1914, but it was the first thing they thought of today. its a long way to tipperary, its a long way to go. the band went on  a french band  playing tipperary. but it was useless. if the marseillaise failed to suggest peace, tipperary called up only 1914 - the august days of it. all day long the surging crowds cheered round the statue. 1870 was avenged.\\n\\n \\n20 sept., 1823.... on monday, the 1st september, i attended in st. peter\\'s the last and most solemn requiem-service for the deceased pope [pius vii]....  i sat in the gallery appointed for the chiefs of the mission and their wives; all other persons, strangers or not... might take their chance as they could in the body of the church, which was on this occasion literally full, and filled with all that variety of costume which gives such a peculiar effect to a roman crowd. into the chapel nobody was allowed to enter, except the cardinals and prelates; the service was therefore undisturbed, the buzz of the multitude seeming more distant than it was. after the conclusion of the mass, in which the exquisite requiem of pittoni was sung in even greater perfection than usual, the demons of absolution was performed five times, by five several cardinals; for pius the seventh as pope, as cardinal, as archbishop, as priest, and as deacon; the five cardinals went in procession into the body of the church, followed by the papal singers, who performed a passage of a psalm or an anthem, after each absolution. these exquisite pieces of music were heard in perfection where we sate, but were nearly lost to persons who, though near, stood in the confusion of the crowd. the next day, we went to the apartments of cardinal consalvi at the palace of the consulta, opposite the palace of monte cavallo, to see the cardinals walk in procession into conclave.... the cardinals walked two and two, from a little church at the other extremity of the summit of the quirinal, with one of the guardia nobile on each side, and preceded by all the attendants who were to be shut up with them during the conclave, also by the singers of the papal chapel, who performed the veni creator spiritus; the effect of this might have been as fine as possible, but a noisy and dissonant military band at the close of the procession disturbed all.\\n \\ni have tried several experiments in my own works, notably in the pageant of p. t. barnum in the section dealing with general and mts. tom thumb. the humour consists of a shrill military music alternating with a sour mincing waltz which seems to work very well as an interpretation of the literary idea. i have noticed that when the orchestra percussion section uses a cap pistol as directed to open the music, the fun is always more evident to the audience. they seem to need obvious effects of this kind in order to be sure that the composer means to be funny. oftentimes they think that the music is just bad. i was less successful in attempting to interpret the spiritual nature of babbitt in an overture. apparently the kind of character drawing which can be done in a novel is too subtle to be appreciated by audiences. \\n \\ngodfreys band was a new revelation to the musicians present. here was a military band playing the overture to der freischutz, producing a softness and yet a power of tone from brass instruments such as all here were unaccustomed to, limning the grand work with all the nuances of expression, and presenting it from beginning to end with an intelligence and clearness of conception that seemed marvellous.\\n \\nafter having dined, we went to hear the military band at a garden, just above the town. it was so full, that seeing there was not a chance of getting seats, we remained in the carriage from whence we heard quite enough, i should almost say more than enough, for the band is very noisy. they played music too chromatic, too german, even for my ears. i longed for some melody and was on the whole much disappointed. it was the prussian band, which i heard. i am told that the austrian, which plays alternately with it is far superior.\\n \\n'"
      ]
     },
     "execution_count": 2,
     "metadata": {},
     "output_type": "execute_result"
    }
   ],
   "source": [
    "text.lower()"
   ]
  },
  {
   "cell_type": "markdown",
   "metadata": {},
   "source": [
    "### punctuation\n",
    "The module `string` provide a string of characters (punctuation) that we can use to remove punctuation from our text. We define it as a set and we compare it to our text."
   ]
  },
  {
   "cell_type": "code",
   "execution_count": 3,
   "metadata": {
    "collapsed": true
   },
   "outputs": [
    {
     "data": {
      "text/plain": [
       "{'!',\n",
       " '\"',\n",
       " '#',\n",
       " '$',\n",
       " '%',\n",
       " '&',\n",
       " \"'\",\n",
       " '(',\n",
       " ')',\n",
       " '*',\n",
       " '+',\n",
       " ',',\n",
       " '-',\n",
       " '.',\n",
       " '/',\n",
       " ':',\n",
       " ';',\n",
       " '<',\n",
       " '=',\n",
       " '>',\n",
       " '?',\n",
       " '@',\n",
       " '[',\n",
       " '\\\\',\n",
       " ']',\n",
       " '^',\n",
       " '_',\n",
       " '`',\n",
       " '{',\n",
       " '|',\n",
       " '}',\n",
       " '~'}"
      ]
     },
     "execution_count": 3,
     "metadata": {},
     "output_type": "execute_result"
    }
   ],
   "source": [
    "import string\n",
    "exclude = set(string.punctuation)\n",
    "exclude"
   ]
  },
  {
   "cell_type": "markdown",
   "metadata": {},
   "source": [
    "### stopwords\n",
    "NLTK provides a list of lowercase stop words for several languages. We can create a set including all of them."
   ]
  },
  {
   "cell_type": "code",
   "execution_count": 6,
   "metadata": {
    "collapsed": true
   },
   "outputs": [
    {
     "data": {
      "text/plain": [
       "{'a',\n",
       " 'about',\n",
       " 'above',\n",
       " 'after',\n",
       " 'again',\n",
       " 'against',\n",
       " 'ain',\n",
       " 'all',\n",
       " 'am',\n",
       " 'an',\n",
       " 'and',\n",
       " 'any',\n",
       " 'are',\n",
       " 'aren',\n",
       " 'as',\n",
       " 'at',\n",
       " 'be',\n",
       " 'because',\n",
       " 'been',\n",
       " 'before',\n",
       " 'being',\n",
       " 'below',\n",
       " 'between',\n",
       " 'both',\n",
       " 'but',\n",
       " 'by',\n",
       " 'can',\n",
       " 'couldn',\n",
       " 'd',\n",
       " 'did',\n",
       " 'didn',\n",
       " 'do',\n",
       " 'does',\n",
       " 'doesn',\n",
       " 'doing',\n",
       " 'don',\n",
       " 'down',\n",
       " 'during',\n",
       " 'each',\n",
       " 'few',\n",
       " 'for',\n",
       " 'from',\n",
       " 'further',\n",
       " 'had',\n",
       " 'hadn',\n",
       " 'has',\n",
       " 'hasn',\n",
       " 'have',\n",
       " 'haven',\n",
       " 'having',\n",
       " 'he',\n",
       " 'her',\n",
       " 'here',\n",
       " 'hers',\n",
       " 'herself',\n",
       " 'him',\n",
       " 'himself',\n",
       " 'his',\n",
       " 'how',\n",
       " 'i',\n",
       " 'if',\n",
       " 'in',\n",
       " 'into',\n",
       " 'is',\n",
       " 'isn',\n",
       " 'it',\n",
       " 'its',\n",
       " 'itself',\n",
       " 'just',\n",
       " 'll',\n",
       " 'm',\n",
       " 'ma',\n",
       " 'me',\n",
       " 'mightn',\n",
       " 'more',\n",
       " 'most',\n",
       " 'mustn',\n",
       " 'my',\n",
       " 'myself',\n",
       " 'needn',\n",
       " 'no',\n",
       " 'nor',\n",
       " 'not',\n",
       " 'now',\n",
       " 'o',\n",
       " 'of',\n",
       " 'off',\n",
       " 'on',\n",
       " 'once',\n",
       " 'only',\n",
       " 'or',\n",
       " 'other',\n",
       " 'our',\n",
       " 'ours',\n",
       " 'ourselves',\n",
       " 'out',\n",
       " 'over',\n",
       " 'own',\n",
       " 're',\n",
       " 's',\n",
       " 'same',\n",
       " 'shan',\n",
       " 'she',\n",
       " 'should',\n",
       " 'shouldn',\n",
       " 'so',\n",
       " 'some',\n",
       " 'such',\n",
       " 't',\n",
       " 'than',\n",
       " 'that',\n",
       " 'the',\n",
       " 'their',\n",
       " 'theirs',\n",
       " 'them',\n",
       " 'themselves',\n",
       " 'then',\n",
       " 'there',\n",
       " 'these',\n",
       " 'they',\n",
       " 'this',\n",
       " 'those',\n",
       " 'through',\n",
       " 'to',\n",
       " 'too',\n",
       " 'under',\n",
       " 'until',\n",
       " 'up',\n",
       " 've',\n",
       " 'very',\n",
       " 'was',\n",
       " 'wasn',\n",
       " 'we',\n",
       " 'were',\n",
       " 'weren',\n",
       " 'what',\n",
       " 'when',\n",
       " 'where',\n",
       " 'which',\n",
       " 'while',\n",
       " 'who',\n",
       " 'whom',\n",
       " 'why',\n",
       " 'will',\n",
       " 'with',\n",
       " 'won',\n",
       " 'wouldn',\n",
       " 'y',\n",
       " 'you',\n",
       " 'your',\n",
       " 'yours',\n",
       " 'yourself',\n",
       " 'yourselves'}"
      ]
     },
     "execution_count": 6,
     "metadata": {},
     "output_type": "execute_result"
    }
   ],
   "source": [
    "from nltk.corpus import stopwords\n",
    "stopWords = set(stopwords.words('english'))\n",
    "stopWords"
   ]
  },
  {
   "cell_type": "markdown",
   "metadata": {},
   "source": [
    "and compare it with the list of words in our texts (see `word_tokenize`), and then clean our texts.\n",
    "\n",
    "## Tokenization\n",
    "Tokenization classify parts of a string to be further processed. It's a necessary step to perform statistics on sentences or words.\n",
    "\n",
    "### sent_tokenize()\n",
    "`sent_tokenize()` knows what punctuation and characters mark the end of a sentence and the beginning of a new sentence, thus it divides the text according to such separators. We'll use it to calculate frequency distribution of words."
   ]
  },
  {
   "cell_type": "code",
   "execution_count": 8,
   "metadata": {},
   "outputs": [
    {
     "data": {
      "text/plain": [
       "[\"this's a sentence.\",\n",
       " 'this is sent two.',\n",
       " 'is this sent three?',\n",
       " 'sent 4 is cool!',\n",
       " 'Now it’s your turn.']"
      ]
     },
     "execution_count": 8,
     "metadata": {},
     "output_type": "execute_result"
    }
   ],
   "source": [
    "from nltk.tokenize import sent_tokenize\n",
    "text = \"this's a sentence. this is sent two. is this sent three? sent 4 is cool! Now it’s your turn.\"\n",
    "sent_tokenize_list = sent_tokenize(text)\n",
    "sent_tokenize_list"
   ]
  },
  {
   "cell_type": "markdown",
   "metadata": {},
   "source": [
    "### word_tokenize()\n",
    "Similarly to `sent_tokenize()`, `word_tokenize()` splits words in a text."
   ]
  },
  {
   "cell_type": "code",
   "execution_count": 10,
   "metadata": {},
   "outputs": [
    {
     "data": {
      "text/plain": [
       "['Hello', 'World', '.']"
      ]
     },
     "execution_count": 10,
     "metadata": {},
     "output_type": "execute_result"
    }
   ],
   "source": [
    "from nltk.tokenize import word_tokenize\n",
    "word_tokenize('Hello World.')"
   ]
  },
  {
   "cell_type": "markdown",
   "metadata": {},
   "source": [
    "## Statistics\n",
    "We can perform simple statistics to understand the usage of certain words in specific context.\n",
    "### Text\n",
    "The class `Text` is a wrapper around a sequence of simple (string) tokens, which is intended to support initial exploration of texts (e.g. concordance, words in a similar context)."
   ]
  },
  {
   "cell_type": "code",
   "execution_count": null,
   "metadata": {},
   "outputs": [],
   "source": [
    "from nltk.text import Text \n",
    "textList = text.split() # we split our text, return a list\n",
    "textList = Text(textList) # we transform the list in an object\n",
    "textList"
   ]
  },
  {
   "cell_type": "markdown",
   "metadata": {},
   "source": [
    "### concordance()\n",
    "Given a word, we can see where it appears by using `concordance()`, which includes following and preceding words in results. In order"
   ]
  },
  {
   "cell_type": "code",
   "execution_count": null,
   "metadata": {},
   "outputs": [],
   "source": [
    "import nltk , sys\n",
    "from nltk.text import Text \n",
    "term = 'sent'\n",
    "textList.concordance(term, 75, sys.maxsize)"
   ]
  },
  {
   "cell_type": "markdown",
   "metadata": {},
   "source": [
    "The accepted arguments are: the term to be searched, its length and the number of lines you want to be shown. In this case we specified `sys.maxsize` as the maximum number of lines.\n",
    "\n",
    "### similar()\n",
    "To explore which words appear in the same position as the term we are investigating, we use `similar()`."
   ]
  },
  {
   "cell_type": "code",
   "execution_count": 18,
   "metadata": {},
   "outputs": [
    {
     "name": "stdout",
     "output_type": "stream",
     "text": [
      "is\n"
     ]
    }
   ],
   "source": [
    "textList.similar(term)"
   ]
  },
  {
   "cell_type": "markdown",
   "metadata": {},
   "source": [
    "## Frequency distribution\n",
    "A frequency distribution can be defined as a function mapping from each sample to the number of times that sample occurred as an outcome. Frequency distributions are generally constructed by running a number of experiments, and incrementing the count for a sample every time it is an outcome of an experiment.\n",
    "\n",
    "### FreqDist()\n",
    "`FreqDist()` accepts an iterable object of tokens and returns a dictionary including words and their count "
   ]
  },
  {
   "cell_type": "code",
   "execution_count": 4,
   "metadata": {},
   "outputs": [
    {
     "name": "stdout",
     "output_type": "stream",
     "text": [
      "dict_items([('simple', 2), ('a', 1), ('is', 2), ('?', 1), ('it', 1), ('example', 1), ('.', 1), ('this', 1)])\n"
     ]
    }
   ],
   "source": [
    "from nltk.tokenize import word_tokenize\n",
    "from nltk.probability import FreqDist\n",
    "sent = 'This is a simple example. Is it simple?'\n",
    "fdist = FreqDist()\n",
    "words = [word.lower() for word in word_tokenize(sent)]\n",
    "fdist = FreqDist(words)\n",
    "print(fdist.items())"
   ]
  },
  {
   "cell_type": "markdown",
   "metadata": {},
   "source": [
    "### freq()\n",
    "Returns the frequency of a given sample. The frequency of a sample is defined as the count of that sample divided by the total number of sample outcomes that have been recorded by this `FreqDist`. Frequency is a number in the range [0, 1]."
   ]
  },
  {
   "cell_type": "code",
   "execution_count": 23,
   "metadata": {},
   "outputs": [
    {
     "name": "stdout",
     "output_type": "stream",
     "text": [
      "0.2\n"
     ]
    }
   ],
   "source": [
    "print(fdist.freq('is'))"
   ]
  },
  {
   "cell_type": "markdown",
   "metadata": {},
   "source": [
    "## Bigrams\n",
    "A bigram is a sequence of two adjacent elements from a string of tokens, such as letters, syllabs or words. We use bigrams to see which pairs of words appear in our text (so as to characterize a listening experience by its are most common bigrams)."
   ]
  },
  {
   "cell_type": "code",
   "execution_count": 24,
   "metadata": {},
   "outputs": [
    {
     "name": "stdout",
     "output_type": "stream",
     "text": [
      "[(('it', 'simple'), 1), (('a', 'simple'), 1), (('is', 'a'), 1), (('simple', 'example'), 1), (('.', 'Is'), 1), (('simple', '?'), 1), (('This', 'is'), 1), (('Is', 'it'), 1), (('example', '.'), 1)]\n"
     ]
    }
   ],
   "source": [
    "tokens = word_tokenize(sent)\n",
    "bgs = nltk.bigrams(tokens)\n",
    "fdist = nltk.FreqDist(bgs)\n",
    "print(fdist.most_common(10))"
   ]
  },
  {
   "cell_type": "markdown",
   "metadata": {},
   "source": [
    "### Collocation \n",
    "Collocation is expression of multiple words which commonly co-occur. We use `nltk.collocations.BigramAssocMeasures()` to find collocation of bigrams.\n",
    "The `collocations` package provides collocation finders which by default consider all ngrams in a text as candidate collocations."
   ]
  },
  {
   "cell_type": "code",
   "execution_count": 25,
   "metadata": {},
   "outputs": [
    {
     "data": {
      "text/plain": [
       "[('.', 'Is'),\n",
       " ('Is', 'it'),\n",
       " ('This', 'is'),\n",
       " ('a', 'simple'),\n",
       " ('example', '.'),\n",
       " ('is', 'a'),\n",
       " ('it', 'simple'),\n",
       " ('simple', '?'),\n",
       " ('simple', 'example')]"
      ]
     },
     "execution_count": 25,
     "metadata": {},
     "output_type": "execute_result"
    }
   ],
   "source": [
    "import nltk\n",
    "from nltk.collocations import *\n",
    "bigram_measures = nltk.collocations.BigramAssocMeasures()\n",
    "finder = BigramCollocationFinder.from_words(tokens)\n",
    "scored = finder.score_ngrams(bigram_measures.raw_freq)\n",
    "sorted(bigram for bigram, score in scored)"
   ]
  },
  {
   "cell_type": "markdown",
   "metadata": {},
   "source": [
    "We can also apply filters, e.g. we want this method to return only bigrams that appear more than 2 times."
   ]
  },
  {
   "cell_type": "code",
   "execution_count": 32,
   "metadata": {},
   "outputs": [
    {
     "data": {
      "text/plain": [
       "[('another', 'sentence')]"
      ]
     },
     "execution_count": 32,
     "metadata": {},
     "output_type": "execute_result"
    }
   ],
   "source": [
    "import nltk\n",
    "from nltk.collocations import *\n",
    "sent = 'This is another sentence, another sentence meant to test distribution of bisgrams'\n",
    "tokens = word_tokenize(sent)\n",
    "bigram_measures = nltk.collocations.BigramAssocMeasures()\n",
    "finder = BigramCollocationFinder.from_words(tokens)\n",
    "finder.apply_freq_filter(2)\n",
    "scored = finder.score_ngrams(bigram_measures.raw_freq)\n",
    "sorted(bigram for bigram, score in scored)"
   ]
  },
  {
   "cell_type": "markdown",
   "metadata": {},
   "source": [
    "[see documentation](http://www.nltk.org/howto/collocations.html)\n",
    "\n",
    "# Exercise\n",
    "Work on a bunch of short [texts](https://raw.githubusercontent.com/marilenadaquino/computational_thinking/master/3_lesson/military.txt) recording listening experiences of military bands, published by the [LED project](led.kmi.open.ac.uk). We want to understand how to recognize a listening experience in a text, and which elements characterize a listening experience of a military band. \n",
    "\n",
    "Define a function that prints the following statistics:\n",
    " * Total number of words\n",
    " * Lexical diversity: `numberOfUniqueWords / totalNumberOfWords`\n",
    " * Occurrences of the term `military`\n",
    " * Percentage of the term `military` with respect to the total amount of words: `100 * occurrencesOfTerm / totalNumberOfWords`\n",
    " * Concordance of the term `military`\n",
    " * Other words that appear in the same context of `military`\n",
    " * Frequency distribution of the 100 most common words\n",
    " * Distribution of the 50 most common bigrams\n",
    " * Collocation of bigrams that appear more than three times\n",
    " * **OPTIONAL** Score pair of words that are most likely to appear together (i.e. the most common), using `likelihood_ratio` (instead of `raw_freq`) as a measure for scoring bigrams\n",
    " * Write a short summary on how you would characterize a listening experience. What is missing in this analysis?\n",
    "\n",
    "## References for the exercise\n",
    " * [Natural Language Toolkit](http://www.nltk.org/) python library for text analysis\n",
    " * [txt file](https://raw.githubusercontent.com/marilenadaquino/computational_thinking/master/3_lesson/military.txt) including texts on listening experiences\n"
   ]
  },
  {
   "cell_type": "code",
   "execution_count": null,
   "metadata": {},
   "outputs": [],
   "source": []
  }
 ],
 "metadata": {
  "kernelspec": {
   "display_name": "Python 3",
   "language": "python",
   "name": "python3"
  },
  "language_info": {
   "codemirror_mode": {
    "name": "ipython",
    "version": 3
   },
   "file_extension": ".py",
   "mimetype": "text/x-python",
   "name": "python",
   "nbconvert_exporter": "python",
   "pygments_lexer": "ipython3",
   "version": "3.5.0"
  }
 },
 "nbformat": 4,
 "nbformat_minor": 2
}
