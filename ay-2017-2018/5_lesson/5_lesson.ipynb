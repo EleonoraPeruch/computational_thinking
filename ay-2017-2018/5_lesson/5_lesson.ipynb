{
 "cells": [
  {
   "cell_type": "markdown",
   "metadata": {},
   "source": [
    "# More on data types\n",
    "\n",
    "## Tuples\n",
    "Tuples are sequences, like lists. The difference between tuples and lists is that tuples cannot be changed unlike lists. Moreover, tuples use parentheses, whereas lists use square brackets."
   ]
  },
  {
   "cell_type": "code",
   "execution_count": 1,
   "metadata": {},
   "outputs": [],
   "source": [
    "myTup = ('Silvio', 'is')"
   ]
  },
  {
   "cell_type": "markdown",
   "metadata": {},
   "source": [
    "To access values of a tuple we use the usual slicing notation"
   ]
  },
  {
   "cell_type": "code",
   "execution_count": 2,
   "metadata": {},
   "outputs": [
    {
     "data": {
      "text/plain": [
       "'Silvio'"
      ]
     },
     "execution_count": 2,
     "metadata": {},
     "output_type": "execute_result"
    }
   ],
   "source": [
    "myTup[0]"
   ]
  },
  {
   "cell_type": "markdown",
   "metadata": {},
   "source": [
    "N.B. Since a tuple is immutable you cannot add new elements. You can take a chunk and merge it with another one."
   ]
  },
  {
   "cell_type": "code",
   "execution_count": 4,
   "metadata": {},
   "outputs": [
    {
     "data": {
      "text/plain": [
       "('Silvio', 'is', 'very', 'old')"
      ]
     },
     "execution_count": 4,
     "metadata": {},
     "output_type": "execute_result"
    }
   ],
   "source": [
    "myTup2 = ('very','old')\n",
    "myNewTup = myTup + myTup2\n",
    "myNewTup"
   ]
  },
  {
   "cell_type": "markdown",
   "metadata": {},
   "source": [
    "## Defaultdict\n",
    "A defaultdict works exactly like a dict, but it is initialized with a function (“default factory”) that provides the default value for a not existing key.\n",
    "\n",
    "The values in a dictionary can be anything, such as integers and strings. When the values in a dictionary are collections (lists, dicts, etc.), the value (an empty list or dict) must be initialized the first time a given key is used. defaultdict does this.\n",
    "\n",
    "Benefit: A defaultdict will never raise a KeyError. Any key that does not exist gets the value returned by the default factory."
   ]
  },
  {
   "cell_type": "code",
   "execution_count": 5,
   "metadata": {},
   "outputs": [
    {
     "data": {
      "text/plain": [
       "defaultdict(list,\n",
       "            {'CA': ['Sacramento', 'Palo Alto'],\n",
       "             'GA': ['Atlanta'],\n",
       "             'NY': ['Albany', 'Syracuse', 'Buffalo', 'Rochester'],\n",
       "             'TX': ['Austin', 'Houston', 'Dallas']})"
      ]
     },
     "execution_count": 5,
     "metadata": {},
     "output_type": "execute_result"
    }
   ],
   "source": [
    "from collections import defaultdict\n",
    "city_list = [('TX','Austin'), ('TX','Houston'), ('NY','Albany'), ('NY', 'Syracuse'), ('NY', 'Buffalo'), ('NY', 'Rochester'), ('TX', 'Dallas'), ('CA','Sacramento'), ('CA', 'Palo Alto'), ('GA', 'Atlanta')]\n",
    "cities_by_state = defaultdict(list)\n",
    "for state, city in city_list:\n",
    "    cities_by_state[state].append(city)\n",
    "cities_by_state"
   ]
  },
  {
   "cell_type": "markdown",
   "metadata": {},
   "source": [
    "## [Dewey Decimal classification](https://en.wikipedia.org/wiki/Dewey_Decimal_Classification)\n",
    "The DDC is the most widely used classification system in the world. Libraries in more than 135 countries use the DDC to organize and provide access to their collections, and DDC numbers are featured in the national bibliographies of more than 60 countries. \n",
    "\n",
    "## Exercise\n",
    "Work on a [bunch](https://raw.githubusercontent.com/marilenadaquino/computational_thinking/master/5_lesson/topics.csv) of resources related to Harry Potter.\n",
    " * reconstruct the Dewey classification at the British Library: extract all the Dewey classification numbers, types of topics under a Dewey number, and the specific topics belonging to such types. Build a dictionary, e.g. \n",
    "\n",
    " ~~~~\n",
    " {\n",
    " \t Dewey number1: [(Type_of_topic1 , Topic1) , (Type_of_topic1 , Topic1) , (Type_of_topic1 , Topic2) , (Type_of_topic2 , Topic2) , ...]\n",
    " \t ...\n",
    " }\n",
    " ~~~~\n",
    "\n",
    " clean duplicate tuples (e.g. (Type_of_topic1 , Topic1) ) and group topics by each type of topic (i.e. the first item of a new tuple)\n",
    "\n",
    " ~~~~\n",
    " {\n",
    " \t Dewey_number1: [\n",
    " \t \t(Type_of_topic1 , [Topic1 , Topic2]), \n",
    " \t \t(Type_of_topic2 , [Topic2]), \n",
    " \t ...]\n",
    "\n",
    " \t Dewey_number2: [\n",
    " \t \t(Type_of_topic1 , [Topic1 , Topic2]), \n",
    " \t \t(Type_of_topic2 , [Topic2]), \n",
    " \t ...]\n",
    "\n",
    " }\n",
    " ~~~~\n",
    " \n",
    " finally, print a bullet list like the following:\n",
    " \n",
    " ~~~~\n",
    "  - Dewey_number1:\n",
    " \t- Type_of_topic1: \n",
    " \t\t- Topic1 \n",
    " \t\t- Topic2\n",
    " \t- Type_of_topic2: \n",
    " \t\t- Topic2\n",
    "  ...\n",
    " ~~~~\n",
    "\n",
    " * reproduce the British Library organization: \n",
    " \t* construct three sections: notated music, texts and online resources ('Content type')\n",
    " \t* for each section provide an ordered list of British Library IDs ('BL record ID')\n",
    "\n",
    "  ~~~~\n",
    "  - Notated music:\n",
    "  \t- 013372965\n",
    " \t...\n",
    "  ~~~~\n",
    "\n",
    "## Links\n",
    " * [DDC Classification](https://www.oclc.org/en/dewey/features/summaries.html)\n",
    " * [data](https://raw.githubusercontent.com/marilenadaquino/computational_thinking/master/5_lesson/topics.csv)"
   ]
  },
  {
   "cell_type": "code",
   "execution_count": null,
   "metadata": {},
   "outputs": [],
   "source": []
  }
 ],
 "metadata": {
  "kernelspec": {
   "display_name": "Python 3",
   "language": "python",
   "name": "python3"
  },
  "language_info": {
   "codemirror_mode": {
    "name": "ipython",
    "version": 3
   },
   "file_extension": ".py",
   "mimetype": "text/x-python",
   "name": "python",
   "nbconvert_exporter": "python",
   "pygments_lexer": "ipython3",
   "version": "3.5.0"
  }
 },
 "nbformat": 4,
 "nbformat_minor": 2
}
