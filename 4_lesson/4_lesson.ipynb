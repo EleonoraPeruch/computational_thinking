{
 "cells": [
  {
   "cell_type": "markdown",
   "metadata": {},
   "source": [
    "# Data reconciliation\n",
    "Textual data in humanities can be messy, not clean and fuzzy. We may have data that are similar to data belonging to other sources, e.g. data about photographers, but slight differences between strings, due to different naming conventions prevent us to find a perfect match (e.g. 'Yvonne De Rosa', 'Y. De Rosa', 'De Rosa, Y.'). A good practice and a very common task is to reconcile data among data sources, in order to integrate and further process data. \n",
    "\n",
    "We'll use a pure-python approach to reconcile our data against an external source, but be aware that there are several technologies more easy-to-use, e.g. [Openrefine](http://openrefine.org/). \n",
    "\n",
    "## Authority files\n",
    "When reconciling data to an external source, the best practice is to refer to an authority file, i.e., a dataset, a vocabulary, or a thesaurus well-known and reused in a large community, that includes all the information required to identify an entity. \n",
    "\n",
    "There are several established authority files, e.g. [VIAF](https://viaf.org/) for reconciling data about people, or [geonames](http://www.geonames.org/) for place names. For the sake of simplicity, we'll use [DBPedia](http://wiki.dbpedia.org/), the dataset behind Wikipedia. We'll try fo find matches between names in our data, a local .csv file including names of italian photographers, and any entity we can find in DBPedia, by means of an algorithm for fuzzy string matching.\n",
    "\n",
    "## Querying APIs\n",
    "We'll use the [DBPedia lookup Service](http://wiki.dbpedia.org/projects/dbpedia-lookup), which is an [API](https://en.wikipedia.org/wiki/Application_programming_interface) that accepts a keyword in a query string, and returns an XML document including a buch of [metadata](https://en.wikipedia.org/wiki/Metadata) about the entity you searched (if found). \n",
    "\n",
    "Among this metadata, there is a URI that identifies the corresponding entity - that's the identifier we are looking for. \n",
    "\n",
    "E.g. we want to search \"Tina Modotti\" in DBPedia, an italian photographer whose name is included in our local file. To perform such a query we build a URI that starts with `http://lookup.dbpedia.org/api/search/KeywordSearch?MaxHits=1&QueryString=` and we add a string parameter in the end, `Tina Modotti` (we do not care about whitespaces, that are handled during the request to the API). The API returns a [XML file](http://lookup.dbpedia.org/api/search/KeywordSearch?MaxHits=1&QueryString=Tina%20Modotti), wherein the element <URI> contains `http://dbpedia.org/resource/Tina_Modotti`. \n",
    "\n",
    "To request a URI in Python, we built we use the library `requests`. It allows us to send a HTTP request, to manipulate data on the web and access its content.\n"
   ]
  },
  {
   "cell_type": "code",
   "execution_count": 6,
   "metadata": {
    "collapsed": true
   },
   "outputs": [
    {
     "name": "stdout",
     "output_type": "stream",
     "text": [
      "b'<?xml version=\"1.0\" encoding=\"utf-8\"?>\\n<ArrayOfResult \\nxmlns:xsi=\"http://www.w3.org/2001/XMLSchema-instance\" xmlns:xsd=\"http://www.w3.org/2001/XMLSchema\" xmlns=\"http://lookup.dbpedia.org/\">\\n    <Result>\\n        <Label>Tina Modotti</Label>\\n        <URI>http://dbpedia.org/resource/Tina_Modotti</URI>\\n        <Description>\\n            Tina Modotti (August 16 1896 \\xe2\\x80\\x93 January 5, 1942) was an Italian photographer, model, actress, and revolutionary political activist.\\n        </Description>\\n        <Classes></Classes>\\n        <Categories>\\n            <Category>\\n                <Label>Mexican people of Italian descent</Label>\\n                <URI>http://dbpedia.org/resource/Category:Mexican_people_of_Italian_descent</URI>\\n            </Category>\\n            <Category>\\n                <Label>1896 births</Label>\\n                <URI>http://dbpedia.org/resource/Category:1896_births</URI>\\n            </Category>\\n            <Category>\\n                <Label>Mexican artists\\' models</Label>\\n                <URI>http://dbpedia.org/resource/Category:Mexican_artists\\'_models</URI>\\n            </Category>\\n            <Category>\\n                <Label>Italian photographers</Label>\\n                <URI>http://dbpedia.org/resource/Category:Italian_photographers</URI>\\n            </Category>\\n            <Category>\\n                <Label>Italian artists\\' models</Label>\\n                <URI>http://dbpedia.org/resource/Category:Italian_artists\\'_models</URI>\\n            </Category>\\n            <Category>\\n                <Label>Italian people of the Spanish Civil War</Label>\\n                <URI>http://dbpedia.org/resource/Category:Italian_people_of_the_Spanish_Civil_War</URI>\\n            </Category>\\n            <Category>\\n                <Label>Italian women in politics</Label>\\n                <URI>http://dbpedia.org/resource/Category:Italian_women_in_politics</URI>\\n            </Category>\\n            <Category>\\n                <Label>1942 deaths</Label>\\n                <URI>http://dbpedia.org/resource/Category:1942_deaths</URI>\\n            </Category>\\n            <Category>\\n                <Label>People from Udine</Label>\\n                <URI>http://dbpedia.org/resource/Category:People_from_Udine</URI>\\n            </Category>\\n            <Category>\\n                <Label>Mexican communists</Label>\\n                <URI>http://dbpedia.org/resource/Category:Mexican_communists</URI>\\n            </Category>\\n            <Category>\\n                <Label>Women photographers</Label>\\n                <URI>http://dbpedia.org/resource/Category:Women_photographers</URI>\\n            </Category>\\n        </Categories>\\n        <Templates></Templates>\\n        <Redirects></Redirects>\\n        <Refcount>37</Refcount>\\n    </Result>\\n</ArrayOfResult>\\n'\n"
     ]
    }
   ],
   "source": [
    "import requests \n",
    "baseURL = 'http://lookup.dbpedia.org/api/search/KeywordSearch?MaxHits=1&QueryString='\n",
    "name = 'Tina Modotti'\n",
    "url = baseURL+name\n",
    "response = requests.get(url).content\n",
    "print(str(response))"
   ]
  },
  {
   "cell_type": "markdown",
   "metadata": {},
   "source": [
    "So doing, we find a document about 'Tina Modotti'. This algorithm is not aware of homonymous people. Therefore even if we find a match, we are not sure we are talking about the same person.\n",
    "\n",
    "## Web scraping\n",
    "We said that once the query is performed and there is a match, a XML file is returned to the user. In particular, the DBPedia lookup API returns a XML file injected in a HTML file. To access (scrap) contents of a web page we use another module, called `BeautifulSoup`. \n",
    "\n",
    "The method *BeautifulSoup* accepts a HTML file as first argument, and a parser as a second argument. Generally, when a HTML file is scraped, we call a *html.parser*. In this case, a XML is returned in the web page, thus we use a parser for XML documents, i.e., *lxml*. \n",
    "\n",
    "To navigate the tree of elements we use the method **find()** and we pass the element we want to access. The method **text** retrieved the text included in an element. In this way we scrap the element `<uri></uri>` containing our identifier."
   ]
  },
  {
   "cell_type": "code",
   "execution_count": 9,
   "metadata": {},
   "outputs": [
    {
     "data": {
      "text/plain": [
       "'http://dbpedia.org/resource/Tina_Modotti'"
      ]
     },
     "execution_count": 9,
     "metadata": {},
     "output_type": "execute_result"
    }
   ],
   "source": [
    "from bs4 import BeautifulSoup\n",
    "record = BeautifulSoup(response, \"lxml\").find('html').find('body').find('arrayofresult').find('result')\n",
    "uri = record.find('uri').text\n",
    "uri"
   ]
  },
  {
   "cell_type": "markdown",
   "metadata": {},
   "source": [
    "## Fuzzy String Matching\n",
    "As we said, the match we found may be wrong, because of several reason, e.g. homonymous people, bugs in the search API. Thus we go for a double-check between our strings and the label of the entity we found, which in our XML file is included in the element *label*.\n",
    "\n"
   ]
  },
  {
   "cell_type": "code",
   "execution_count": 10,
   "metadata": {},
   "outputs": [
    {
     "data": {
      "text/plain": [
       "b'Tina Modotti'"
      ]
     },
     "execution_count": 10,
     "metadata": {},
     "output_type": "execute_result"
    }
   ],
   "source": [
    "label = record.find('label').text.encode('utf-8') # we encode the string, since ther might be special characters\n",
    "label"
   ]
  },
  {
   "cell_type": "markdown",
   "metadata": {},
   "source": [
    "To compare similar but slightly different strings we use the module `fuzzywuzzy`, which is a library for fuzzy string matching that uses several measures to describe similarities. It compare two strings and returns a percentage representing the quality of the match.\n",
    "\n",
    "A simple string similarity is measured by the method **ratio**, with a measurement of edit distance (kind of string closeness)."
   ]
  },
  {
   "cell_type": "code",
   "execution_count": 12,
   "metadata": {},
   "outputs": [
    {
     "name": "stderr",
     "output_type": "stream",
     "text": [
      "/Library/Frameworks/Python.framework/Versions/3.5/lib/python3.5/site-packages/fuzzywuzzy/fuzz.py:35: UserWarning: Using slow pure-python SequenceMatcher. Install python-Levenshtein to remove this warning\n",
      "  warnings.warn('Using slow pure-python SequenceMatcher. Install python-Levenshtein to remove this warning')\n"
     ]
    },
    {
     "data": {
      "text/plain": [
       "96"
      ]
     },
     "execution_count": 12,
     "metadata": {},
     "output_type": "execute_result"
    }
   ],
   "source": [
    "from fuzzywuzzy import fuzz\n",
    "fuzz.ratio('Tina Modotti ', 'Tina Modotti')"
   ]
  },
  {
   "cell_type": "markdown",
   "metadata": {},
   "source": [
    "Sometimes there is a significative difference between two strings, but they clearly refer to the same entity (example 1). At the opposite, very similar strings refer to two different entities (example 2)."
   ]
  },
  {
   "cell_type": "code",
   "execution_count": 20,
   "metadata": {},
   "outputs": [
    {
     "data": {
      "text/plain": [
       "61"
      ]
     },
     "execution_count": 20,
     "metadata": {},
     "output_type": "execute_result"
    }
   ],
   "source": [
    "fuzz.ratio(\"YANKEES\", \"NEW YORK YANKEES\") "
   ]
  },
  {
   "cell_type": "code",
   "execution_count": 14,
   "metadata": {},
   "outputs": [
    {
     "data": {
      "text/plain": [
       "76"
      ]
     },
     "execution_count": 14,
     "metadata": {},
     "output_type": "execute_result"
    }
   ],
   "source": [
    "fuzz.ratio(\"NEW YORK METS\", \"NEW YORK YANKEES\") "
   ]
  },
  {
   "cell_type": "markdown",
   "metadata": {},
   "source": [
    "Therefore we look for the \"best partial match\" between two strings, that is provided by the method **partial_ratio** and we obtain:"
   ]
  },
  {
   "cell_type": "code",
   "execution_count": 16,
   "metadata": {},
   "outputs": [
    {
     "data": {
      "text/plain": [
       "100"
      ]
     },
     "execution_count": 16,
     "metadata": {},
     "output_type": "execute_result"
    }
   ],
   "source": [
    "fuzz.partial_ratio(\"YANKEES\", \"NEW YORK YANKEES\") "
   ]
  },
  {
   "cell_type": "code",
   "execution_count": 17,
   "metadata": {},
   "outputs": [
    {
     "data": {
      "text/plain": [
       "69"
      ]
     },
     "execution_count": 17,
     "metadata": {},
     "output_type": "execute_result"
    }
   ],
   "source": [
    "fuzz.partial_ratio(\"NEW YORK METS\", \"NEW YORK YANKEES\") "
   ]
  },
  {
   "cell_type": "markdown",
   "metadata": {},
   "source": [
    "Another common situation is when two strings contain similar substrings but they are in different order. We use the method **token_sort_ratio** to sort tokens alphabetically and then compare strings. An alternative method is **token_set_ratio** which consider only unique tokens (a set) in the string, regardless the position.\n"
   ]
  },
  {
   "cell_type": "code",
   "execution_count": 18,
   "metadata": {},
   "outputs": [
    {
     "data": {
      "text/plain": [
       "100"
      ]
     },
     "execution_count": 18,
     "metadata": {},
     "output_type": "execute_result"
    }
   ],
   "source": [
    "fuzz.token_sort_ratio(\"Tina, Modotti\", \"Modotti Tina\")"
   ]
  },
  {
   "cell_type": "code",
   "execution_count": 19,
   "metadata": {},
   "outputs": [
    {
     "data": {
      "text/plain": [
       "100"
      ]
     },
     "execution_count": 19,
     "metadata": {},
     "output_type": "execute_result"
    }
   ],
   "source": [
    "fuzz.token_set_ratio(\"Tina Modotti, Modotti\", \"Tina Modotti\")"
   ]
  },
  {
   "cell_type": "markdown",
   "metadata": {},
   "source": [
    "Sometimes, none of this measure fits perfectly the situation and it can be useful to measure their average in order to have andother parameter for qualifying the match, e.g. `avg = (ratio+partialRatio+tokenSort+tokenSet)/4`\n",
    "\n",
    "## Precision and recall\n",
    "In information retrieval, *precision* is a measure that takes into account the relevant instances among the retrieved ones and qualify the algorithm used to retrieve instances. We define *precision* as the number of correct results divided by the number of all returned results.\n",
    "\n",
    "`precision = numCorrectResults / numRetrievedResults`\n",
    "\n",
    "*Recall* is the fraction of relevant instances over the total amount of possible relevant instances. We define *recall* as the number of correct results divided by the number of results that should have been returned.\n",
    "\n",
    "`recall = numCorrectResults / numExpectedResults`\n",
    "\n",
    "# More on functions\n",
    "\n",
    "## Try-except\n",
    "Till now we have seen how errors are handled by python: a `SyntaxError` is the most common situation, and the interpreter returns a message explaining the error detected. Sometimes errors may be caused by the operations we are performing (i.e., we can execute a code in some cases but not in others). In the latter case we have to handle `exceptions`."
   ]
  },
  {
   "cell_type": "code",
   "execution_count": 22,
   "metadata": {},
   "outputs": [
    {
     "name": "stdout",
     "output_type": "stream",
     "text": [
      "error! divide by zero\n"
     ]
    }
   ],
   "source": [
    "(x,y) = (5,0)\n",
    "try:\n",
    "    z = x/y\n",
    "except ZeroDivisionError:\n",
    "    print(\"error! divide by zero\")"
   ]
  },
  {
   "cell_type": "markdown",
   "metadata": {},
   "source": [
    "# A script for reconciling data against DBPedia\n",
    "This time, instead of writing our code from scratch, we'll adapt an existing [script](https://github.com/ehanson8/viaf-dbpedia-reconciliation-python/blob/master/dbpediaReconciliationGeneral.py) to our purposes."
   ]
  },
  {
   "cell_type": "code",
   "execution_count": 27,
   "metadata": {},
   "outputs": [],
   "source": [
    "import requests\n",
    "import csv\n",
    "from bs4 import BeautifulSoup\n",
    "from fuzzywuzzy import fuzz\n",
    "import urllib\n",
    "\n",
    "baseURL = 'http://lookup.dbpedia.org/api/search/KeywordSearch?MaxHits=1&QueryString='\n",
    "\n",
    "f=csv.writer(open('dbpediaResultsGeneral.csv', 'w'))\n",
    "f.writerow(['search']+['result']+['description']+['ratio']+['partialRatio']+['tokenSort']+['tokenSet']+['avg']+['uri'])\n",
    "with open('organizations.csv') as csvfile:\n",
    "    reader = csv.DictReader(csvfile)\n",
    "    for row in reader:\n",
    "        name = str(row['name'])\n",
    "        nameEdited = urllib.parse.quote(name.encode('utf-8').strip())\n",
    "        url = baseURL+nameEdited.strip()\n",
    "        response = requests.get(url).content\n",
    "        record = BeautifulSoup(response, \"lxml\").find('html').find('body').find('arrayofresult').find('result')\n",
    "        try:\n",
    "            label = record.find('label').text.encode('utf-8')\n",
    "            uri = record.find('uri').text.encode('utf-8')\n",
    "            description = record.find('description').text.encode('utf-8')\n",
    "        except:\n",
    "            label = ''\n",
    "            uri = ''\n",
    "            description = ''\n",
    "        ratio = fuzz.ratio(name, label)\n",
    "        partialRatio = fuzz.partial_ratio(name, label)\n",
    "        tokenSort = fuzz.token_sort_ratio(name, label)\n",
    "        tokenSet = fuzz.token_set_ratio(name, label)\n",
    "        avg = (ratio+partialRatio+tokenSort+tokenSet)/4\n",
    "        f=csv.writer(open('dbpediaResultsGeneral.csv', 'a'))\n",
    "        f.writerow([name.strip()]+[label]+[description.strip()]+[ratio]+[partialRatio]+[tokenSort]+[tokenSet]+[avg]+[uri])"
   ]
  },
  {
   "cell_type": "markdown",
   "metadata": {},
   "source": [
    "# Exercise\n",
    "Work on an [authority file of italian photographers](https://raw.githubusercontent.com/marilenadaquino/computational_thinking/master/4_lesson/Authority-Photographers.csv) and a [script](https://github.com/ehanson8/viaf-dbpedia-reconciliation-python/blob/master/dbpediaReconciliationGeneral.py) for reconciling data against DBPedia.\n",
    "\n",
    " * adapt the code to your local .csv file. Print results instead of writing a new file \n",
    " * distinguish names that have a match and names that do not have a match in results\n",
    " * what can you say about recall and precision of data retrieved? Test the precision of data reconciled, by looking for the string \"photo\" in both the elements 'description' and 'Label'. Update the function in order to calculate both recall and precision.\n",
    " * add a new field DESCRIPTION in results, and integrate the text from the element of the xml file returned by the lookup API of DBPedia\n",
    "\n",
    "## References for the exercise\n",
    " * [Python scripts](https://github.com/ehanson8/viaf-dbpedia-reconciliation-python) for reconciling data against VIAF and DBpedia\n",
    " * [csv file](https://raw.githubusercontent.com/marilenadaquino/computational_thinking/master/4_lesson/Authority-Photographers.csv) including a sample of an authority file of photographers"
   ]
  }
 ],
 "metadata": {
  "kernelspec": {
   "display_name": "Python 3",
   "language": "python",
   "name": "python3"
  },
  "language_info": {
   "codemirror_mode": {
    "name": "ipython",
    "version": 3
   },
   "file_extension": ".py",
   "mimetype": "text/x-python",
   "name": "python",
   "nbconvert_exporter": "python",
   "pygments_lexer": "ipython3",
   "version": "3.5.0"
  }
 },
 "nbformat": 4,
 "nbformat_minor": 2
}
